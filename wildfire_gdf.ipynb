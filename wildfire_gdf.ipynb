{
 "cells": [
  {
   "cell_type": "code",
   "execution_count": 1,
   "metadata": {},
   "outputs": [],
   "source": [
    "import pandas as pd\n",
    "\n",
    "### 시각화 라이브러리 정의\n",
    "# - 파이썬에서 사용되는 기본 시각화 라이브러리\n",
    "import matplotlib.pyplot as plt\n",
    "\n",
    "# - 히트맵 라이브러리\n",
    "import seaborn as sns\n",
    "import geopandas as gpd\n",
    "import folium\n",
    "from shapely.geometry import Polygon\n",
    "from shapely.geometry import Point\n",
    "from folium.plugins import MarkerCluster\n",
    "\n",
    "import os\n",
    "from dask.diagnostics import ProgressBar\n",
    "import dask.dataframe as dd\n",
    "\n",
    "### 한글처리\n",
    "plt.rc(\"font\", family=\"Malgun Gothic\")\n",
    "\n",
    "# - 마이너스 기호 깨짐 처리\n",
    "plt.rcParams[\"axes.unicode_minus\"] = False"
   ]
  },
  {
   "cell_type": "code",
   "execution_count": null,
   "metadata": {},
   "outputs": [],
   "source": [
    "### 제목"
   ]
  },
  {
   "cell_type": "code",
   "execution_count": 2,
   "metadata": {},
   "outputs": [],
   "source": [
    "# 1. Shapefile 불러오기 (NRT와 Archive 파일)\n",
    "shapefile_path_archive = \"./USA data/DL_FIRE_SV-C2_590018/fire_archive_SV-C2_590018.shp\"\n",
    "shapefile_path_nrt = \"./USA data/DL_FIRE_SV-C2_590018/fire_nrt_SV-C2_590018.shp\"\n",
    "\n",
    "# 각각 Shapefile 읽기\n",
    "gdf_archive = gpd.read_file(shapefile_path_archive)\n",
    "gdf_nrt = gpd.read_file(shapefile_path_nrt)\n",
    "\n",
    "# 2. 두 Shapefile 병합 (pandas concat 사용)\n",
    "gdf = pd.concat([gdf_archive, gdf_nrt], ignore_index=True)\n",
    "\n",
    "# 3. GeoDataFrame CRS 일치 (기본적으로 같을 가능성이 높지만, 확인 후 일치시킴)\n",
    "gdf = gdf.to_crs(epsg=4326)  # WGS 84 좌표계로 변환\n",
    "\n",
    "# 4. 이미 처리된 cleaned_wildfire_df 불러오기\n",
    "# cleaned_wildfire_df는 이미 위도, 경도, 그리고 필요한 정보가 있는 데이터라고 가정\n",
    "cleaned_wildfire_df = pd.read_csv(\"./USA data/cleaned_wildfire.csv\")\n",
    "\n",
    "# 5. cleaned_wildfire_df를 GeoDataFrame으로 변환\n",
    "# cleaned_wildfire_df에서 좌표 정보 (latitude, longitude)로 Point 객체 생성\n",
    "geometry = [Point(lon, lat) for lon, lat in zip(cleaned_wildfire_df['longitude'], cleaned_wildfire_df['latitude'])]\n",
    "geo_df = gpd.GeoDataFrame(cleaned_wildfire_df, geometry=geometry)\n",
    "\n",
    "# 6. GeoDataFrame의 좌표계를 맞추기 (Shapefile과 일치)\n",
    "geo_df = geo_df.set_crs(gdf.crs, allow_override=True)\n",
    "\n",
    "# 7. 병합: 두 GeoDataFrame을 'geometry' 컬럼 기준으로 병합\n",
    "merged_gdf = gdf.merge(geo_df, on='geometry', how='inner')"
   ]
  },
  {
   "cell_type": "code",
   "execution_count": 3,
   "metadata": {},
   "outputs": [
    {
     "data": {
      "image/png": "[encoded data removed]",
      "text/plain": [
       "<Figure size 1000x800 with 1 Axes>"
      ]
     },
     "metadata": {},
     "output_type": "display_data"
    }
   ],
   "source": [
    "# 8. 시각화 (GeoPandas 사용)\n",
    "fig, ax = plt.subplots(figsize=(10, 8))\n",
    "gdf.plot(ax=ax, cmap='OrRd', edgecolor='black', alpha=0.7)\n",
    "\n",
    "# 제목 추가\n",
    "ax.set_title(\"Fire Detection Map\", fontsize=14)\n",
    "\n",
    "# 축 제거 (지도만 보이게)\n",
    "ax.set_xticks([])\n",
    "ax.set_yticks([])\n",
    "\n",
    "# 시각화 실행\n",
    "plt.show()"
   ]
  },
  {
   "cell_type": "code",
   "execution_count": 4,
   "metadata": {},
   "outputs": [],
   "source": [
    "# 샘플링된 GeoDataFrame 생성\n",
    "merged_gdf_sample = merged_gdf.sample(frac=0.1)  # 10% 샘플링\n",
    "\n",
    "# 1. Timestamp 형식을 문자열로 변환 (ACQ_DATE 예시)\n",
    "merged_gdf_sample['ACQ_DATE'] = merged_gdf_sample['ACQ_DATE'].dt.strftime('%Y-%m-%d %H:%M:%S')\n",
    "\n",
    "# 지도 중심 설정 (예: [37.5, -120] 캘리포니아)\n",
    "m = folium.Map(location=[37.5, -120], zoom_start=6)\n",
    "\n",
    "# MarkerCluster 생성\n",
    "marker_cluster = MarkerCluster().add_to(m)\n",
    "\n",
    "# GeoDataFrame을 GeoJSON 형식으로 변환하여 성능 개선\n",
    "geojson_data = merged_gdf_sample.to_json()"
   ]
  },
  {
   "cell_type": "code",
   "execution_count": null,
   "metadata": {},
   "outputs": [],
   "source": [
    "# GeoJSON 데이터를 지도에 추가 (시각화)\n",
    "folium.GeoJson(\n",
    "    geojson_data,\n",
    "    name=\"Fire Detection\",\n",
    "    popup=folium.Popup(fields=['FRP', 'ACQ_DATE'], parse_html=True)\n",
    ").add_to(marker_cluster)\n",
    "\n",
    "# 지도 저장\n",
    "m.save(\"fire_map_geojson.html\")\n",
    "print(\"Map saved as fire_map_geojson.html\")\n"
   ]
  },
  {
   "cell_type": "code",
   "execution_count": 7,
   "metadata": {},
   "outputs": [
    {
     "name": "stderr",
     "output_type": "stream",
     "text": [
      "C:\\Users\\Administrator\\AppData\\Local\\Temp\\ipykernel_164\\3091555634.py:2: UserWarning: Geometry is in a geographic CRS. Results from 'buffer' are likely incorrect. Use 'GeoSeries.to_crs()' to re-project geometries to a projected CRS before this operation.\n",
      "\n",
      "  gdf['geometry'] = gdf['geometry'].buffer(0.005)  # 0.005도 ≈ 500m\n"
     ]
    },
    {
     "name": "stdout",
     "output_type": "stream",
     "text": [
      "Total Predicted Area (Buffer): 4598491.38 km²\n",
      "FRP-Weighted Predicted Area: 4406106.99 km²\n"
     ]
    }
   ],
   "source": [
    "# 7. 폴리곤 주변에 버퍼 생성 (500m 반경)\n",
    "gdf['geometry'] = gdf['geometry'].buffer(0.005)  # 0.005도 ≈ 500m\n",
    "\n",
    "# 8. 면적 계산 (제곱미터 단위, 좌표계 변환 필요)\n",
    "gdf = gdf.to_crs(epsg=32610)  # UTM으로 변환 (정확한 면적 계산용)\n",
    "gdf['area_m2'] = gdf.geometry.area\n",
    "\n",
    "# 전체 면적 계산\n",
    "total_area_m2 = gdf['area_m2'].sum()\n",
    "total_area_km2 = total_area_m2 / 1e6  # 제곱킬로미터로 변환\n",
    "print(f\"Total Predicted Area (Buffer): {total_area_km2:.2f} km²\")\n",
    "\n",
    "# 9. FRP 가중치 적용\n",
    "gdf['weighted_area'] = gdf['FRP'] * gdf['area_m2'] / gdf['FRP'].mean()\n",
    "total_weighted_area_km2 = gdf['weighted_area'].sum() / 1e6\n",
    "print(f\"FRP-Weighted Predicted Area: {total_weighted_area_km2:.2f} km²\")\n"
   ]
  },
  {
   "cell_type": "code",
   "execution_count": null,
   "metadata": {},
   "outputs": [],
   "source": []
  }
 ],
 "metadata": {
  "kernelspec": {
   "display_name": "pk_dl_202503_kernel",
   "language": "python",
   "name": "pk_dl_202503"
  },
  "language_info": {
   "codemirror_mode": {
    "name": "ipython",
    "version": 3
   },
   "file_extension": ".py",
   "mimetype": "text/x-python",
   "name": "python",
   "nbconvert_exporter": "python",
   "pygments_lexer": "ipython3",
   "version": "3.9.21"
  }
 },
 "nbformat": 4,
 "nbformat_minor": 2
}
