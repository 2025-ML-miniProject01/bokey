{
 "cells": [
  {
   "cell_type": "code",
   "execution_count": 2,
   "metadata": {},
   "outputs": [],
   "source": [
    "### 회귀분석 라이브러리 정의\n",
    "# - 데이터를 읽기 위한 라이브러리\n",
    "import pandas as pd\n",
    "\n",
    "# - 시각화 라이브러리\n",
    "import matplotlib.pyplot as plt\n",
    "\n",
    "### 모델 라이브러리\n",
    "# - KNN 회귀모델 라이브러리 정의하기\n",
    "from sklearn.neighbors import KNeighborsRegressor\n",
    "\n",
    "# - 선형회귀모델 라이브러리\n",
    "from sklearn.linear_model import LinearRegression\n",
    "\n",
    "# - 릿지 모델 라이브러리\n",
    "from sklearn.linear_model import Ridge\n",
    "\n",
    "# - 라쏘 모델 라이브러리\n",
    "from sklearn.linear_model import Lasso\n",
    "\n",
    "# - 앙상블 모델\n",
    "from sklearn.ensemble import RandomForestRegressor\n",
    "from sklearn.ensemble import ExtraTreesRegressor\n",
    "from sklearn.ensemble import GradientBoostingRegressor\n",
    "from sklearn.ensemble import HistGradientBoostingRegressor\n",
    "from xgboost import XGBRegressor\n",
    "\n",
    "# - 변환기 모델(클래스) 라이브러리 정의\n",
    "from sklearn.preprocessing import PolynomialFeatures\n",
    "\n",
    "# - 데이터 스케일링 라이브러리\n",
    "from sklearn.preprocessing import StandardScaler\n",
    "from sklearn.preprocessing import MinMaxScaler\n",
    "from sklearn.preprocessing import RobustScaler\n",
    "\n",
    "# 하이퍼파라메터 튜닝 모델(클래스) 정의하기\n",
    "from sklearn.model_selection import GridSearchCV\n",
    "\n",
    "### 평가 라이브러리 정의\n",
    "from sklearn.metrics import mean_absolute_error  # (MAE)\n",
    "from sklearn.metrics import mean_squared_error  # (MSE)\n",
    "from sklearn.metrics import r2_score  # (R2-score)\n",
    "\n",
    "### 경고(오류는 아님) 메시지 없애기\n",
    "# - 사이킷런 버전에 따라 오류가 아니니 안내(경고)메시지가 자주 나타남\n",
    "# - 안내(경고) 메시지 없이 실행할 수 있도록 처리\n",
    "from sklearn import set_config\n",
    "set_config(display=\"text\")\n",
    "\n",
    "# - 한글처리\n",
    "plt.rc(\"font\", family=\"Malgun Gothic\")\n",
    "\n",
    "# - 마이너스 기호 깨짐 처리\n",
    "plt.rcParams[\"axes.unicode_minus\"] = False"
   ]
  },
  {
   "cell_type": "code",
   "execution_count": 3,
   "metadata": {},
   "outputs": [
    {
     "name": "stdout",
     "output_type": "stream",
     "text": [
      "<class 'pandas.core.frame.DataFrame'>\n",
      "RangeIndex: 900596 entries, 0 to 900595\n",
      "Data columns (total 26 columns):\n",
      " #   Column                 Non-Null Count   Dtype  \n",
      "---  ------                 --------------   -----  \n",
      " 0   latitude               900596 non-null  float64\n",
      " 1   longitude              900596 non-null  float64\n",
      " 2   brightness             900596 non-null  float64\n",
      " 3   bright_t31             900596 non-null  float64\n",
      " 4   frp                    900596 non-null  float64\n",
      " 5   T2M                    900596 non-null  float64\n",
      " 6   WS2M                   900596 non-null  float64\n",
      " 7   RH2M                   900596 non-null  float64\n",
      " 8   PRECTOTCORR            900596 non-null  float64\n",
      " 9   confidence_h           900596 non-null  int64  \n",
      " 10  confidence_l           900596 non-null  int64  \n",
      " 11  confidence_n           900596 non-null  int64  \n",
      " 12  daynight_D             900596 non-null  int64  \n",
      " 13  daynight_N             900596 non-null  int64  \n",
      " 14  year                   900596 non-null  int64  \n",
      " 15  month                  900596 non-null  int64  \n",
      " 16  day                    900596 non-null  int64  \n",
      " 17  season                 900596 non-null  int64  \n",
      " 18  weekday                900596 non-null  int64  \n",
      " 19  WS2M_RH2M_interaction  900596 non-null  float64\n",
      " 20  high_temperature       900596 non-null  int64  \n",
      " 21  precipitation_flag     900596 non-null  int64  \n",
      " 22  T2M_binned_medium      900596 non-null  bool   \n",
      " 23  T2M_binned_high        900596 non-null  bool   \n",
      " 24  RH2M_binned_medium     900596 non-null  bool   \n",
      " 25  RH2M_binned_high       900596 non-null  bool   \n",
      "dtypes: bool(4), float64(10), int64(12)\n",
      "memory usage: 154.6 MB\n"
     ]
    }
   ],
   "source": [
    "model = pd.read_csv(\"./USA data/cleaned_wildfire.csv\")\n",
    "model.info()"
   ]
  },
  {
   "cell_type": "code",
   "execution_count": 8,
   "metadata": {},
   "outputs": [
    {
     "data": {
      "text/plain": [
       "((900596, 4), (900596,))"
      ]
     },
     "execution_count": 8,
     "metadata": {},
     "output_type": "execute_result"
    }
   ],
   "source": [
    "from sklearn.model_selection import train_test_split\n",
    "\n",
    "#train = canada[[\"brightness\", \"bright_t31\", \"T2M\", \"WS2M\", \"RH2M\",\"PRECTOTCORR\",\"confidence_h\",\\\n",
    "#    \"confidence_l\",\"confidence_n\",\"daynight_D\",\"daynight_N\"]]\n",
    "\n",
    "train = model[[\"brightness\", \"bright_t31\", \"confidence_h\", \"daynight_D\"]]\n",
    "target = model[\"frp\"]\n",
    "\n",
    "train.shape, target.shape"
   ]
  },
  {
   "cell_type": "code",
   "execution_count": 9,
   "metadata": {},
   "outputs": [
    {
     "name": "stdout",
     "output_type": "stream",
     "text": [
      "(540357, 4) (540357,)\n",
      "(360239, 4) (360239,)\n"
     ]
    }
   ],
   "source": [
    "train_input,test_input,train_target,test_target = train_test_split(train,target,test_size=0.4,random_state=42)\n",
    "\n",
    "print(train_input.shape, train_target.shape)\n",
    "print(test_input.shape, test_target.shape)"
   ]
  },
  {
   "cell_type": "code",
   "execution_count": 10,
   "metadata": {},
   "outputs": [
    {
     "name": "stdout",
     "output_type": "stream",
     "text": [
      "(180119, 4) (180119,)\n",
      "(180120, 4) (180120,)\n"
     ]
    }
   ],
   "source": [
    "val_input,test_input,val_target,test_target = train_test_split(test_input, test_target, test_size=0.5, random_state=42)\n",
    "\n",
    "print(val_input.shape, val_target.shape)\n",
    "print(test_input.shape, test_target.shape)"
   ]
  },
  {
   "cell_type": "code",
   "execution_count": 11,
   "metadata": {},
   "outputs": [
    {
     "name": "stdout",
     "output_type": "stream",
     "text": [
      "train_score: 0.6169270662403985, val_score: 0.6187876939924557, test_score: 0.6183012341819727, 과적합여부: -0.0018606277520571979\n"
     ]
    }
   ],
   "source": [
    "from sklearn.ensemble import RandomForestRegressor\n",
    "\n",
    "xg = RandomForestRegressor(\n",
    "    n_estimators=200,\n",
    "    max_depth=3\n",
    ")\n",
    "\n",
    "xg.fit(\n",
    "    train_input, train_target\n",
    "    \n",
    ")\n",
    "\n",
    "train_score = xg.score(train_input, train_target)\n",
    "val_score = xg.score(val_input, val_target)\n",
    "test_score = xg.score(test_input, test_target)\n",
    "\n",
    "print(f\"train_score: {train_score}, val_score: {val_score}, test_score: {test_score}, 과적합여부: {train_score - val_score}\")"
   ]
  },
  {
   "cell_type": "code",
   "execution_count": null,
   "metadata": {},
   "outputs": [],
   "source": []
  }
 ],
 "metadata": {
  "kernelspec": {
   "display_name": "pk_dl_202503_kernel",
   "language": "python",
   "name": "pk_dl_202503"
  },
  "language_info": {
   "codemirror_mode": {
    "name": "ipython",
    "version": 3
   },
   "file_extension": ".py",
   "mimetype": "text/x-python",
   "name": "python",
   "nbconvert_exporter": "python",
   "pygments_lexer": "ipython3",
   "version": "3.9.21"
  }
 },
 "nbformat": 4,
 "nbformat_minor": 2
}
